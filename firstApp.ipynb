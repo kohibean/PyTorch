{
 "cells": [
  {
   "cell_type": "code",
   "execution_count": 2,
   "id": "5d5882a2",
   "metadata": {},
   "outputs": [
    {
     "name": "stdout",
     "output_type": "stream",
     "text": [
      "tensor([[-0.4210, -0.5676]], grad_fn=<AddmmBackward0>)\n"
     ]
    }
   ],
   "source": [
    "import torch\n",
    "import torch.nn as nn\n",
    "input_tensor = torch.tensor([[0.3471, 0.4547, -0.2356]])\n",
    "\n",
    "#Defining our linear Layer\n",
    "linear_layer = nn.Linear( \n",
    "    in_features=3,\n",
    "    out_features=2\n",
    ")\n",
    "\n",
    "#pass input through linear layer\n",
    "output = linear_layer(input_tensor)\n",
    "print(output)"
   ]
  },
  {
   "cell_type": "code",
   "execution_count": null,
   "id": "84843fb6",
   "metadata": {},
   "outputs": [
    {
     "name": "stdout",
     "output_type": "stream",
     "text": [
      "149\n"
     ]
    }
   ],
   "source": [
    "#Sequential\n",
    "model = nn.Sequential(\n",
    "    nn.Linear(10, 8), #takes 10 inputs, 8 outputs\n",
    "    nn.Linear(8,4), #takes 18 and outputs 20\n",
    "    nn.Linear(4,5) \n",
    ")\n",
    "total = 0 #getting the total number of parameters \n",
    "for parameter in model.parameters():\n",
    "    total += parameter.numel()\n",
    "print(total)"
   ]
  },
  {
   "cell_type": "code",
   "execution_count": null,
   "id": "4440a47a",
   "metadata": {},
   "outputs": [
    {
     "name": "stdout",
     "output_type": "stream",
     "text": [
      "tensor([[0.9975]])\n"
     ]
    }
   ],
   "source": [
    "#Sigmoid Function - For binary classification\n",
    " \n",
    "input_tensor = torch.tensor([[6]])\n",
    "sigmoid = nn.Sigmoid()\n",
    "output = sigmoid(input_tensor)\n",
    "print(output)"
   ]
  },
  {
   "cell_type": "code",
   "execution_count": 6,
   "id": "3dbe9507",
   "metadata": {},
   "outputs": [
    {
     "name": "stdout",
     "output_type": "stream",
     "text": [
      "tensor([[0.1392, 0.8420, 0.0188]])\n"
     ]
    }
   ],
   "source": [
    "#Softmax - for CLASSIFICATION\n",
    " \n",
    "input_tensor = torch.tensor([[4.3,6.1,2.3]])\n",
    "probabilities = nn.Softmax(dim=-1)\n",
    "output_tensor = probabilities(input_tensor)\n",
    "print(output_tensor)"
   ]
  },
  {
   "cell_type": "code",
   "execution_count": null,
   "id": "ab2ab6e0",
   "metadata": {},
   "outputs": [],
   "source": [
    "#Backpropagation\n",
    "model = nn.Sequential(nn.Linear(16,8), \n",
    "                      nn. Linear(8,4),\n",
    "                      nn.Linear(4,2))\n",
    "prediction = model(sample)\n",
    "#Calculate the loss and gradients"
   ]
  }
 ],
 "metadata": {
  "kernelspec": {
   "display_name": "torch-gpu",
   "language": "python",
   "name": "python3"
  },
  "language_info": {
   "codemirror_mode": {
    "name": "ipython",
    "version": 3
   },
   "file_extension": ".py",
   "mimetype": "text/x-python",
   "name": "python",
   "nbconvert_exporter": "python",
   "pygments_lexer": "ipython3",
   "version": "3.10.18"
  }
 },
 "nbformat": 4,
 "nbformat_minor": 5
}
